{
 "cells": [
  {
   "cell_type": "code",
   "execution_count": 1,
   "metadata": {},
   "outputs": [
    {
     "name": "stdout",
     "output_type": "stream",
     "text": [
      "1\n",
      "2\n"
     ]
    }
   ],
   "source": [
    "class Net:\n",
    "    def __init__(self, name, ip, mask):\n",
    "        self.name = name\n",
    "        self.ip = ip\n",
    "        self.mask = mask\n",
    "        \n",
    "net = Net('net1', 1, 2)\n",
    "\n",
    "def add_ip(net):\n",
    "    net.ip += 1\n",
    "    \n",
    "print(net.ip)\n",
    "add_ip(net)\n",
    "print(net.ip)"
   ]
  }
 ],
 "metadata": {
  "kernelspec": {
   "display_name": "d2l",
   "language": "python",
   "name": "python3"
  },
  "language_info": {
   "codemirror_mode": {
    "name": "ipython",
    "version": 3
   },
   "file_extension": ".py",
   "mimetype": "text/x-python",
   "name": "python",
   "nbconvert_exporter": "python",
   "pygments_lexer": "ipython3",
   "version": "3.9.18"
  }
 },
 "nbformat": 4,
 "nbformat_minor": 2
}
